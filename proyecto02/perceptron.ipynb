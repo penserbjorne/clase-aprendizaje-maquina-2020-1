{
  "nbformat": 4,
  "nbformat_minor": 0,
  "metadata": {
    "colab": {
      "name": "perceptron.ipynb",
      "provenance": [],
      "collapsed_sections": []
    },
    "kernelspec": {
      "name": "python3",
      "display_name": "Python 3"
    }
  },
  "cells": [
    {
      "cell_type": "code",
      "metadata": {
        "id": "LVswvqeoq-Aj",
        "colab_type": "code",
        "colab": {}
      },
      "source": [
        "# Universidad Nacional Autónoma de México\n",
        "# Facultad de Ingeniería\n",
        "\n",
        "# Aguilar Enriquez Paul Sebastian \n",
        "# Cabrera Lopez Oscar Emilio \n",
        "\n",
        "# Reconocedor de letras\n",
        "\n",
        "import numpy as np\n",
        "from math import exp"
      ],
      "execution_count": 0,
      "outputs": []
    },
    {
      "cell_type": "code",
      "metadata": {
        "id": "VGT6BOkIDw6Q",
        "colab_type": "code",
        "colab": {}
      },
      "source": [
        "class FullyConnectedLayer:\n",
        "    \"\"\"\n",
        "        Capa de perceptrones\n",
        "        transfer_function: funcion de transferencia, debe devolver un solo numero\n",
        "        size: tamaño de la capa (# de neuronas, # de entradas)\n",
        "        w: una matriz de pesos\n",
        "    \"\"\"\n",
        "    def __init__(self, transfer_function, size=(1,1), w=None):\n",
        "        self.inputs = size[1] # + 1 # inputs + bias\n",
        "        self.neurons = size[0]\n",
        "        if w is None:\n",
        "            self.w = np.random.random(size=size)\n",
        "        else:\n",
        "            self.w = np.asfarray(w)\n",
        "        self.b = np.ones(self.neurons)\n",
        "        self.tf = np.vectorize(transfer_function, otypes=[float])\n",
        "\n",
        "    def eval(self, inputs):\n",
        "        n = np.dot(self.w, inputs) + self.b\n",
        "        return self.tf(n)"
      ],
      "execution_count": 0,
      "outputs": []
    },
    {
      "cell_type": "code",
      "metadata": {
        "id": "nsq2qyKmA1oE",
        "colab_type": "code",
        "colab": {}
      },
      "source": [
        "class TransferFunctions:\n",
        "\n",
        "    @staticmethod\n",
        "    def linear(x):\n",
        "        return x\n",
        "\n",
        "    @staticmethod\n",
        "    def satlinear(x):\n",
        "        if x < 0:\n",
        "            return 0\n",
        "        elif x > 1:\n",
        "            return 1\n",
        "        else:\n",
        "            return x\n",
        "\n",
        "    @staticmethod\n",
        "    def hardlim(x):\n",
        "        return 0 if x < 0 else 1\n",
        "        \n",
        "    @staticmethod\n",
        "    def hardlims(x):\n",
        "        return -1 if x < 0 else 1\n",
        "\n",
        "    @staticmethod\n",
        "    def sigmoid(x):\n",
        "        if x >= 0:\n",
        "            z = exp(-x)\n",
        "            return 1 / (1 + z)\n",
        "        else:\n",
        "            z = exp(x)\n",
        "            return z / (1 + z)\n",
        "\n",
        "    @staticmethod\n",
        "    def tanh(x):\n",
        "        if x >= 0:\n",
        "            z= exp(2*x)\n",
        "            return (1 - z)/(1 + z)\n",
        "        else:\n",
        "            z = exp(2*x)\n",
        "            (z - 1)/(z + 1)"
      ],
      "execution_count": 0,
      "outputs": []
    },
    {
      "cell_type": "code",
      "metadata": {
        "id": "n-n_E_UsA72g",
        "colab_type": "code",
        "colab": {}
      },
      "source": [
        "class NeuralNetworkTrainer:\n",
        "    def __init__(self, net, X, Y, train_ratio=0.7, threshold=0.01, epochs=10):\n",
        "        self.net = net\n",
        "        self.data = {}\n",
        "        self._data_divide(np.asfarray(X), np.asfarray(Y), train_ratio)\n",
        "        self.error = 1\n",
        "        self.data_ratio=train_ratio\n",
        "        self.threshold = threshold # Umbral de error\n",
        "        self.epochs = epochs\n",
        "\n",
        "    def _data_divide(self, X, Y, ratio):\n",
        "        idx = int(len(X)*ratio)\n",
        "        self.data[\"train_X\"] = X[0:idx]\n",
        "        self.data[\"train_Y\"] = Y[0:idx]\n",
        "        self.data[\"test_X\"]  = X[idx:]\n",
        "        self.data[\"test_Y\"]  = Y[idx:]\n",
        "        print(self.data[\"train_X\"])\n",
        "        print(self.data[\"train_Y\"])\n",
        "\n",
        "\n",
        "    def train(self):\n",
        "        epochs = 0\n",
        "        while self.error > self.threshold and self.epochs > epochs:\n",
        "            net_error = [] # Error de toda la red durante el epoch\n",
        "            for p, t in zip(self.data[\"train_X\"], self.data[\"train_Y\"]):\n",
        "                a = self.net.eval(p)\n",
        "                error = t - a\n",
        "\n",
        "                net_error.append(error)\n",
        "\n",
        "# Ajuste de pesos y bias\n",
        "                self.net.w += np.dot(np.reshape(error, (1, error.size)).T, np.reshape(p, (1, p.size)))\n",
        "                self.net.b += error\n",
        "\n",
        "            # Error promedio en todo el epoch\n",
        "            self.error = np.average(np.abs(net_error))\n",
        "            print(f\"Epoch: {epochs} Error: {self.error}\")\n",
        "            epochs += 1\n",
        "\n",
        "    \"\"\"\n",
        "    test: Evalua la red en el set de pruebas\n",
        "\n",
        "    return(tuple):\n",
        "        - (np.array): una matrix con los errores de cada neuronas en cada uno de los ejemplos\n",
        "        - (float): el error promedio\n",
        "    \"\"\"\n",
        "    def test(self):\n",
        "        a, error = [], []\n",
        "        for p, t in zip(self.data[\"test_X\"], self.data[\"test_Y\"]):\n",
        "            o = net.eval(p)\n",
        "            a.append(o)\n",
        "            error.append(t - o)\n",
        "        return error, np.average(error)"
      ],
      "execution_count": 0,
      "outputs": []
    },
    {
      "cell_type": "code",
      "metadata": {
        "id": "2DZKR3M2_MCQ",
        "colab_type": "code",
        "colab": {}
      },
      "source": [
        "#entradas de una compuerta\n",
        "X= [#entrenamiento\n",
        "    [0, 0],\n",
        "    [0, 1],\n",
        "    [1, 0],\n",
        "    [1, 1],\n",
        "    #pruebas\n",
        "    [0, 0],\n",
        "    [0, 1],\n",
        "    [1, 0],\n",
        "    [1, 1]]\n",
        "\n",
        "#Salidas de una AND, OR y NAND\n",
        "Y= [\n",
        "    #entrenamiento\n",
        "    [0, 0, 1],\n",
        "    [0, 1, 1],\n",
        "    [0, 1, 1],\n",
        "    [1, 1, 0],\n",
        "    #pruebas\n",
        "    [0, 0, 1],\n",
        "    [0, 1, 1],\n",
        "    [0, 1, 1],\n",
        "    [1, 1, 0]]"
      ],
      "execution_count": 0,
      "outputs": []
    },
    {
      "cell_type": "code",
      "metadata": {
        "colab_type": "code",
        "id": "YL6rER_E_Fz0",
        "colab": {}
      },
      "source": [
        "net = FullyConnectedLayer(TransferFunctions.hardlim, size=(3, 2))"
      ],
      "execution_count": 0,
      "outputs": []
    },
    {
      "cell_type": "code",
      "metadata": {
        "id": "oCKTG0K7_rgU",
        "colab_type": "code",
        "outputId": "c13726b8-45c5-48af-a65f-02470cea3d84",
        "colab": {
          "base_uri": "https://localhost:8080/",
          "height": 156
        }
      },
      "source": [
        "trainer = NeuralNetworkTrainer(net, X, Y, train_ratio=0.5, threshold=0.0, epochs=10000)"
      ],
      "execution_count": 0,
      "outputs": [
        {
          "output_type": "stream",
          "text": [
            "[[0. 0.]\n",
            " [0. 1.]\n",
            " [1. 0.]\n",
            " [1. 1.]]\n",
            "[[0. 0. 1.]\n",
            " [0. 1. 1.]\n",
            " [0. 1. 1.]\n",
            " [1. 1. 0.]]\n"
          ],
          "name": "stdout"
        }
      ]
    },
    {
      "cell_type": "code",
      "metadata": {
        "id": "1kPJ9Az295sU",
        "colab_type": "code",
        "outputId": "515acbc2-fae7-468e-f356-7dda7d804fc1",
        "colab": {
          "base_uri": "https://localhost:8080/",
          "height": 121
        }
      },
      "source": [
        "trainer.train()"
      ],
      "execution_count": 0,
      "outputs": [
        {
          "output_type": "stream",
          "text": [
            "Epoch: 0 Error: 0.4166666666666667\n",
            "Epoch: 1 Error: 0.5833333333333334\n",
            "Epoch: 2 Error: 0.5\n",
            "Epoch: 3 Error: 0.25\n",
            "Epoch: 4 Error: 0.08333333333333333\n",
            "Epoch: 5 Error: 0.0\n"
          ],
          "name": "stdout"
        }
      ]
    },
    {
      "cell_type": "code",
      "metadata": {
        "id": "seMWNAuqAPNE",
        "colab_type": "code",
        "outputId": "96889fa9-23b2-4904-9bc0-6ebf8243c667",
        "colab": {
          "base_uri": "https://localhost:8080/",
          "height": 104
        }
      },
      "source": [
        "trainer.test()"
      ],
      "execution_count": 0,
      "outputs": [
        {
          "output_type": "execute_result",
          "data": {
            "text/plain": [
              "([array([0., 0., 0.]),\n",
              "  array([0., 0., 0.]),\n",
              "  array([0., 0., 0.]),\n",
              "  array([0., 0., 0.])],\n",
              " 0.0)"
            ]
          },
          "metadata": {
            "tags": []
          },
          "execution_count": 65
        }
      ]
    },
    {
      "cell_type": "code",
      "metadata": {
        "id": "68D3AVafASVE",
        "colab_type": "code",
        "outputId": "e4d4f2b5-93f0-4c5f-f3ae-d956f57f706c",
        "colab": {
          "base_uri": "https://localhost:8080/",
          "height": 69
        }
      },
      "source": [
        "net.w"
      ],
      "execution_count": 0,
      "outputs": [
        {
          "output_type": "execute_result",
          "data": {
            "text/plain": [
              "array([[ 1.51403575,  0.99828395],\n",
              "       [ 1.48166052,  1.82060787],\n",
              "       [-1.41007017, -0.787721  ]])"
            ]
          },
          "metadata": {
            "tags": []
          },
          "execution_count": 66
        }
      ]
    }
  ]
}