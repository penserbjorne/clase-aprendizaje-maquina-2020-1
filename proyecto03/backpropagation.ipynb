{
 "cells": [
  {
   "cell_type": "code",
   "execution_count": 1,
   "metadata": {},
   "outputs": [],
   "source": [
    "Base.:*(a::Array{T,1}, b::Array{T,1}) where {T <: Real} = a .* b"
   ]
  },
  {
   "cell_type": "code",
   "execution_count": 2,
   "metadata": {},
   "outputs": [
    {
     "data": {
      "text/plain": [
       "NamedTuple{(:f, :f′),Tuple{Function,Function}}((getfield(Main, Symbol(\"##15#17\"))(), getfield(Main, Symbol(\"##16#18\"))()))"
      ]
     },
     "execution_count": 2,
     "metadata": {},
     "output_type": "execute_result"
    }
   ],
   "source": [
    "# Tipo para almacenar funciones de transferencia y sus derivadas\n",
    "TransferFunction = NamedTuple{(:f, :f′), Tuple{Function, Function}}\n",
    "\n",
    "# Funciones de activacion y sus derivadas\n",
    "σ = TransferFunction((\n",
    "        # σ\n",
    "        (x) -> begin\n",
    "            if x >= 0\n",
    "                z = exp(-x)\n",
    "                return 1 / (1 + z)\n",
    "            else\n",
    "                z = exp(x)\n",
    "                return z / (1 + z)\n",
    "            end\n",
    "        end,\n",
    "        \n",
    "        # σ′\n",
    "        (z) -> (1 - z)z\n",
    "    ))\n",
    "\n",
    "ReLU = TransferFunction(( \n",
    "        (x) -> ifelse(x >= 0, x, 0),\n",
    "        (z) -> ifelse(z >= 0, 1, 0)\n",
    "    ))\n",
    "\n",
    "PureLim = TransferFunction(( \n",
    "        (x) -> x,\n",
    "        (z) -> 1\n",
    "    ))\n",
    "\n",
    "hardlim = TransferFunction(( \n",
    "        (x) -> ifelse(x >= 0, 1, 0),\n",
    "        (z) -> 1\n",
    "    ))"
   ]
  },
  {
   "cell_type": "code",
   "execution_count": 3,
   "metadata": {},
   "outputs": [
    {
     "data": {
      "text/plain": [
       "NamedTuple{(:f, :f′),Tuple{Function,Function}}((getfield(Main, Symbol(\"##19#21\"))(), getfield(Main, Symbol(\"##20#22\"))()))"
      ]
     },
     "execution_count": 3,
     "metadata": {},
     "output_type": "execute_result"
    }
   ],
   "source": [
    "# Funciones de costo\n",
    "CostFunction = TransferFunction\n",
    "\n",
    "J = CostFunction((\n",
    "        (Ŷ, Y) -> (@. (1/2) * (Y - Ŷ) ^ 2),\n",
    "        (Ŷ, Y) -> -(Y - Ŷ)\n",
    "    ))"
   ]
  },
  {
   "cell_type": "code",
   "execution_count": 4,
   "metadata": {},
   "outputs": [],
   "source": [
    "# Capas de la red\n",
    "mutable struct Layer\n",
    "    size::Tuple{<:Integer, <:Integer}\n",
    "    tf::TransferFunction\n",
    "    W::VecOrMat\n",
    "    b::Vector\n",
    "    # Cache output\n",
    "    z::Vector\n",
    "    a::Vector\n",
    "    δ::Vector\n",
    "    \n",
    "    Layer(size, tf, W, b, z, a, δ) = new(size, tf, W, b, z, a, δ)\n",
    "    Layer(size, tf, W, b) where {T} = new(size, tf, W, b)\n",
    "    function Layer(size::Tuple{<:Integer, <:Integer}, f::TransferFunction)\n",
    "        new(size, f, randn(T, size[1], size[2]) * 1/√size[1], randn(T, size[1]))\n",
    "    end\n",
    "    function Layer(size::Tuple{<:Integer, <:Integer})\n",
    "        new(size, σ)\n",
    "    end\n",
    "    Layer(neurons, inputs, f) = Layer((neurons, inputs), f)\n",
    "    Layer(neurons, inputs) = Layer((neurons, inputs), σ)\n",
    "end"
   ]
  },
  {
   "cell_type": "code",
   "execution_count": 5,
   "metadata": {},
   "outputs": [],
   "source": [
    "mutable struct NeuralNetwork\n",
    "    layers::Vector{Layer}\n",
    "    J::CostFunction\n",
    "    α::AbstractFloat\n",
    "    error::Vector\n",
    "\n",
    "    NeuralNetwork(layers, J, rate, error) = new(layers, J, rate, error)\n",
    "    NeuralNetwork(layers, J, rate) = new(layers, J, rate)\n",
    "    NeuralNetwork(layers::Vector{Layer}, J, rate) = new(layers, J, rate)\n",
    "end"
   ]
  },
  {
   "cell_type": "code",
   "execution_count": 6,
   "metadata": {},
   "outputs": [
    {
     "data": {
      "text/plain": [
       "forward (generic function with 2 methods)"
      ]
     },
     "execution_count": 6,
     "metadata": {},
     "output_type": "execute_result"
    }
   ],
   "source": [
    "function forward(net::Layer, X)\n",
    "    net.z = net.W * X + net.b\n",
    "    net.a = @. net.tf.f(net.z)\n",
    "    return net.a\n",
    "end\n",
    "\n",
    "function forward(net::NeuralNetwork, X)\n",
    "    a = Vector()\n",
    "    push!(a, X)\n",
    "    for layer in net.layers\n",
    "        push!(a, forward(layer, a[end]))\n",
    "    end\n",
    "    return a\n",
    "end"
   ]
  },
  {
   "cell_type": "code",
   "execution_count": 7,
   "metadata": {},
   "outputs": [
    {
     "data": {
      "text/plain": [
       "backward (generic function with 2 methods)"
      ]
     },
     "execution_count": 7,
     "metadata": {},
     "output_type": "execute_result"
    }
   ],
   "source": [
    "# Calcula la sensibilidad de la capa\n",
    "function backward(layer::Layer, next::Layer)\n",
    "    # δ es la sensibilidad de la capa posterior\n",
    "    a  = layer.a\n",
    "    f′ = layer.tf.f′\n",
    "    W  = next.W\n",
    "    δ  = next.δ\n",
    "    \n",
    "    layer.δ = W' .* f′.(a) * δ\n",
    "    return layer.δ\n",
    "end\n",
    "\n",
    "# Calcula el error de toda la red\n",
    "function backward(net::NeuralNetwork, X, Y)\n",
    "    a         = forward(net, X) # activaciones\n",
    "    net.error = Vector()\n",
    "    # Primer capa\n",
    "    # ∂J/∂W = ∂J/∂a * ∂a/∂z * ∂z/∂W\n",
    "    Ŷ         = a[end]\n",
    "    ∂J        = net.J.f′(Ŷ, Y)            # ∂J/∂a = (Y-Ŷ)\n",
    "    ∂a        = net.layers[end].tf.f′.(Ŷ) # ∂a/∂z = f′(z)\n",
    "    δ         = ∂a .* ∂J                  # multiplicacion elemento a elemento\n",
    "    ∂z        = a[end-1]                  # ∂z/∂W = activacion de la capa anterior\n",
    "    net.layers[end].δ = δ\n",
    "    ∂J∂W = sum(∂z * δ', dims=2)\n",
    "    \n",
    "    pushfirst!(net.error, ∂J∂W)           # error de la red\n",
    "\n",
    "    for l ∈ reverse(eachindex(net.layers[1:end-1]))\n",
    "        δ    = backward(net.layers[l], net.layers[l+1])\n",
    "        ∂J∂W = sum(a[l] * δ', dims=2)\n",
    "\n",
    "        pushfirst!(net.error, ∂J∂W) # Guardamos el error de la capa\n",
    "    end\n",
    "\n",
    "    return ∂J\n",
    "end"
   ]
  },
  {
   "cell_type": "code",
   "execution_count": 8,
   "metadata": {},
   "outputs": [
    {
     "data": {
      "text/plain": [
       "update (generic function with 1 method)"
      ]
     },
     "execution_count": 8,
     "metadata": {},
     "output_type": "execute_result"
    }
   ],
   "source": [
    "# Actualiza los pesos\n",
    "function update(net::NeuralNetwork)\n",
    "    for (l, layer) ∈ enumerate(net.layers)\n",
    "        layer.W = layer.W .- net.α * net.error[l]'\n",
    "        layer.b -= net.α * layer.δ\n",
    "    end\n",
    "end"
   ]
  },
  {
   "cell_type": "markdown",
   "metadata": {},
   "source": [
    "# Ejercicio 2"
   ]
  },
  {
   "cell_type": "code",
   "execution_count": 9,
   "metadata": {},
   "outputs": [],
   "source": [
    "using Plots"
   ]
  },
  {
   "cell_type": "code",
   "execution_count": 10,
   "metadata": {},
   "outputs": [
    {
     "data": {
      "text/plain": [
       "NeuralNetwork(Layer[Layer((2, 1), NamedTuple{(:f, :f′),Tuple{Function,Function}}((##3#5(), ##4#6())), [-0.27, -0.41], [-0.48, -0.13], #undef, #undef, #undef), Layer((1, 2), NamedTuple{(:f, :f′),Tuple{Function,Function}}((##11#13(), ##12#14())), [0.09 -0.17], [0.48], #undef, #undef, #undef)], NamedTuple{(:f, :f′),Tuple{Function,Function}}((getfield(Main, Symbol(\"##19#21\"))(), getfield(Main, Symbol(\"##20#22\"))())), 0.1, #undef)"
      ]
     },
     "execution_count": 10,
     "metadata": {},
     "output_type": "execute_result"
    }
   ],
   "source": [
    "net = NeuralNetwork([\n",
    "        Layer((2, 1), σ, [-0.27; -0.41], [-0.48, -0.13]),\n",
    "        Layer((1, 2), PureLim, [0.09 -0.17], [0.48])], \n",
    "    J, 0.1)"
   ]
  },
  {
   "cell_type": "code",
   "execution_count": 11,
   "metadata": {},
   "outputs": [
    {
     "data": {
      "image/svg+xml": [
       "<?xml version=\"1.0\" encoding=\"utf-8\"?>\n",
       "<svg xmlns=\"http://www.w3.org/2000/svg\" xmlns:xlink=\"http://www.w3.org/1999/xlink\" width=\"600\" height=\"400\" viewBox=\"0 0 2400 1600\">\n",
       "<defs>\n",
       "  <clipPath id=\"clip4100\">\n",
       "    <rect x=\"0\" y=\"0\" width=\"2400\" height=\"1600\"/>\n",
       "  </clipPath>\n",
       "</defs>\n",
       "<polygon clip-path=\"url(#clip4100)\" points=\"\n",
       "0,1600 2400,1600 2400,0 0,0 \n",
       "  \" fill=\"#ffffff\" fill-rule=\"evenodd\" fill-opacity=\"1\"/>\n",
       "<defs>\n",
       "  <clipPath id=\"clip4101\">\n",
       "    <rect x=\"480\" y=\"0\" width=\"1681\" height=\"1600\"/>\n",
       "  </clipPath>\n",
       "</defs>\n",
       "<polygon clip-path=\"url(#clip4100)\" points=\"\n",
       "153.898,1487.47 2352.76,1487.47 2352.76,47.2441 153.898,47.2441 \n",
       "  \" fill=\"#ffffff\" fill-rule=\"evenodd\" fill-opacity=\"1\"/>\n",
       "<defs>\n",
       "  <clipPath id=\"clip4102\">\n",
       "    <rect x=\"153\" y=\"47\" width=\"2200\" height=\"1441\"/>\n",
       "  </clipPath>\n",
       "</defs>\n",
       "<polyline clip-path=\"url(#clip4102)\" style=\"stroke:#000000; stroke-width:2; stroke-opacity:0.1; fill:none\" points=\"\n",
       "  216.13,1487.47 216.13,47.2441 \n",
       "  \"/>\n",
       "<polyline clip-path=\"url(#clip4102)\" style=\"stroke:#000000; stroke-width:2; stroke-opacity:0.1; fill:none\" points=\"\n",
       "  734.728,1487.47 734.728,47.2441 \n",
       "  \"/>\n",
       "<polyline clip-path=\"url(#clip4102)\" style=\"stroke:#000000; stroke-width:2; stroke-opacity:0.1; fill:none\" points=\"\n",
       "  1253.33,1487.47 1253.33,47.2441 \n",
       "  \"/>\n",
       "<polyline clip-path=\"url(#clip4102)\" style=\"stroke:#000000; stroke-width:2; stroke-opacity:0.1; fill:none\" points=\"\n",
       "  1771.93,1487.47 1771.93,47.2441 \n",
       "  \"/>\n",
       "<polyline clip-path=\"url(#clip4102)\" style=\"stroke:#000000; stroke-width:2; stroke-opacity:0.1; fill:none\" points=\"\n",
       "  2290.52,1487.47 2290.52,47.2441 \n",
       "  \"/>\n",
       "<polyline clip-path=\"url(#clip4102)\" style=\"stroke:#000000; stroke-width:2; stroke-opacity:0.1; fill:none\" points=\"\n",
       "  153.898,1446.71 2352.76,1446.71 \n",
       "  \"/>\n",
       "<polyline clip-path=\"url(#clip4102)\" style=\"stroke:#000000; stroke-width:2; stroke-opacity:0.1; fill:none\" points=\"\n",
       "  153.898,1107.04 2352.76,1107.04 \n",
       "  \"/>\n",
       "<polyline clip-path=\"url(#clip4102)\" style=\"stroke:#000000; stroke-width:2; stroke-opacity:0.1; fill:none\" points=\"\n",
       "  153.898,767.359 2352.76,767.359 \n",
       "  \"/>\n",
       "<polyline clip-path=\"url(#clip4102)\" style=\"stroke:#000000; stroke-width:2; stroke-opacity:0.1; fill:none\" points=\"\n",
       "  153.898,427.682 2352.76,427.682 \n",
       "  \"/>\n",
       "<polyline clip-path=\"url(#clip4102)\" style=\"stroke:#000000; stroke-width:2; stroke-opacity:0.1; fill:none\" points=\"\n",
       "  153.898,88.0053 2352.76,88.0053 \n",
       "  \"/>\n",
       "<polyline clip-path=\"url(#clip4100)\" style=\"stroke:#000000; stroke-width:4; stroke-opacity:1; fill:none\" points=\"\n",
       "  153.898,1487.47 2352.76,1487.47 \n",
       "  \"/>\n",
       "<polyline clip-path=\"url(#clip4100)\" style=\"stroke:#000000; stroke-width:4; stroke-opacity:1; fill:none\" points=\"\n",
       "  153.898,1487.47 153.898,47.2441 \n",
       "  \"/>\n",
       "<polyline clip-path=\"url(#clip4100)\" style=\"stroke:#000000; stroke-width:4; stroke-opacity:1; fill:none\" points=\"\n",
       "  216.13,1487.47 216.13,1465.87 \n",
       "  \"/>\n",
       "<polyline clip-path=\"url(#clip4100)\" style=\"stroke:#000000; stroke-width:4; stroke-opacity:1; fill:none\" points=\"\n",
       "  734.728,1487.47 734.728,1465.87 \n",
       "  \"/>\n",
       "<polyline clip-path=\"url(#clip4100)\" style=\"stroke:#000000; stroke-width:4; stroke-opacity:1; fill:none\" points=\"\n",
       "  1253.33,1487.47 1253.33,1465.87 \n",
       "  \"/>\n",
       "<polyline clip-path=\"url(#clip4100)\" style=\"stroke:#000000; stroke-width:4; stroke-opacity:1; fill:none\" points=\"\n",
       "  1771.93,1487.47 1771.93,1465.87 \n",
       "  \"/>\n",
       "<polyline clip-path=\"url(#clip4100)\" style=\"stroke:#000000; stroke-width:4; stroke-opacity:1; fill:none\" points=\"\n",
       "  2290.52,1487.47 2290.52,1465.87 \n",
       "  \"/>\n",
       "<polyline clip-path=\"url(#clip4100)\" style=\"stroke:#000000; stroke-width:4; stroke-opacity:1; fill:none\" points=\"\n",
       "  153.898,1446.71 186.881,1446.71 \n",
       "  \"/>\n",
       "<polyline clip-path=\"url(#clip4100)\" style=\"stroke:#000000; stroke-width:4; stroke-opacity:1; fill:none\" points=\"\n",
       "  153.898,1107.04 186.881,1107.04 \n",
       "  \"/>\n",
       "<polyline clip-path=\"url(#clip4100)\" style=\"stroke:#000000; stroke-width:4; stroke-opacity:1; fill:none\" points=\"\n",
       "  153.898,767.359 186.881,767.359 \n",
       "  \"/>\n",
       "<polyline clip-path=\"url(#clip4100)\" style=\"stroke:#000000; stroke-width:4; stroke-opacity:1; fill:none\" points=\"\n",
       "  153.898,427.682 186.881,427.682 \n",
       "  \"/>\n",
       "<polyline clip-path=\"url(#clip4100)\" style=\"stroke:#000000; stroke-width:4; stroke-opacity:1; fill:none\" points=\"\n",
       "  153.898,88.0053 186.881,88.0053 \n",
       "  \"/>\n",
       "<g clip-path=\"url(#clip4100)\">\n",
       "<text style=\"fill:#000000; fill-opacity:1; font-family:Arial,Helvetica Neue,Helvetica,sans-serif; font-size:48px; text-anchor:middle;\" transform=\"rotate(0, 216.13, 1541.47)\" x=\"216.13\" y=\"1541.47\">-2</text>\n",
       "</g>\n",
       "<g clip-path=\"url(#clip4100)\">\n",
       "<text style=\"fill:#000000; fill-opacity:1; font-family:Arial,Helvetica Neue,Helvetica,sans-serif; font-size:48px; text-anchor:middle;\" transform=\"rotate(0, 734.728, 1541.47)\" x=\"734.728\" y=\"1541.47\">-1</text>\n",
       "</g>\n",
       "<g clip-path=\"url(#clip4100)\">\n",
       "<text style=\"fill:#000000; fill-opacity:1; font-family:Arial,Helvetica Neue,Helvetica,sans-serif; font-size:48px; text-anchor:middle;\" transform=\"rotate(0, 1253.33, 1541.47)\" x=\"1253.33\" y=\"1541.47\">0</text>\n",
       "</g>\n",
       "<g clip-path=\"url(#clip4100)\">\n",
       "<text style=\"fill:#000000; fill-opacity:1; font-family:Arial,Helvetica Neue,Helvetica,sans-serif; font-size:48px; text-anchor:middle;\" transform=\"rotate(0, 1771.93, 1541.47)\" x=\"1771.93\" y=\"1541.47\">1</text>\n",
       "</g>\n",
       "<g clip-path=\"url(#clip4100)\">\n",
       "<text style=\"fill:#000000; fill-opacity:1; font-family:Arial,Helvetica Neue,Helvetica,sans-serif; font-size:48px; text-anchor:middle;\" transform=\"rotate(0, 2290.52, 1541.47)\" x=\"2290.52\" y=\"1541.47\">2</text>\n",
       "</g>\n",
       "<g clip-path=\"url(#clip4100)\">\n",
       "<text style=\"fill:#000000; fill-opacity:1; font-family:Arial,Helvetica Neue,Helvetica,sans-serif; font-size:48px; text-anchor:end;\" transform=\"rotate(0, 129.898, 1464.21)\" x=\"129.898\" y=\"1464.21\">0.0</text>\n",
       "</g>\n",
       "<g clip-path=\"url(#clip4100)\">\n",
       "<text style=\"fill:#000000; fill-opacity:1; font-family:Arial,Helvetica Neue,Helvetica,sans-serif; font-size:48px; text-anchor:end;\" transform=\"rotate(0, 129.898, 1124.54)\" x=\"129.898\" y=\"1124.54\">0.5</text>\n",
       "</g>\n",
       "<g clip-path=\"url(#clip4100)\">\n",
       "<text style=\"fill:#000000; fill-opacity:1; font-family:Arial,Helvetica Neue,Helvetica,sans-serif; font-size:48px; text-anchor:end;\" transform=\"rotate(0, 129.898, 784.859)\" x=\"129.898\" y=\"784.859\">1.0</text>\n",
       "</g>\n",
       "<g clip-path=\"url(#clip4100)\">\n",
       "<text style=\"fill:#000000; fill-opacity:1; font-family:Arial,Helvetica Neue,Helvetica,sans-serif; font-size:48px; text-anchor:end;\" transform=\"rotate(0, 129.898, 445.182)\" x=\"129.898\" y=\"445.182\">1.5</text>\n",
       "</g>\n",
       "<g clip-path=\"url(#clip4100)\">\n",
       "<text style=\"fill:#000000; fill-opacity:1; font-family:Arial,Helvetica Neue,Helvetica,sans-serif; font-size:48px; text-anchor:end;\" transform=\"rotate(0, 129.898, 105.505)\" x=\"129.898\" y=\"105.505\">2.0</text>\n",
       "</g>\n",
       "<polyline clip-path=\"url(#clip4102)\" style=\"stroke:#009af9; stroke-width:4; stroke-opacity:1; fill:none\" points=\"\n",
       "  216.13,1446.71 319.85,1438.35 423.569,1413.46 527.289,1372.67 631.009,1316.97 734.728,1247.74 838.448,1166.67 942.168,1075.78 1045.89,977.291 1149.61,873.634 \n",
       "  1253.33,767.359 1357.05,661.085 1460.77,557.427 1564.49,458.939 1668.21,368.045 1771.93,286.984 1875.65,217.75 1979.36,162.051 2083.08,121.255 2186.8,96.3693 \n",
       "  2290.52,88.0053 \n",
       "  \"/>\n",
       "<polygon clip-path=\"url(#clip4100)\" points=\"\n",
       "1989.93,251.724 2280.76,251.724 2280.76,130.764 1989.93,130.764 \n",
       "  \" fill=\"#ffffff\" fill-rule=\"evenodd\" fill-opacity=\"1\"/>\n",
       "<polyline clip-path=\"url(#clip4100)\" style=\"stroke:#000000; stroke-width:4; stroke-opacity:1; fill:none\" points=\"\n",
       "  1989.93,251.724 2280.76,251.724 2280.76,130.764 1989.93,130.764 1989.93,251.724 \n",
       "  \"/>\n",
       "<polyline clip-path=\"url(#clip4100)\" style=\"stroke:#009af9; stroke-width:4; stroke-opacity:1; fill:none\" points=\"\n",
       "  2013.93,191.244 2157.93,191.244 \n",
       "  \"/>\n",
       "<g clip-path=\"url(#clip4100)\">\n",
       "<text style=\"fill:#000000; fill-opacity:1; font-family:Arial,Helvetica Neue,Helvetica,sans-serif; font-size:48px; text-anchor:start;\" transform=\"rotate(0, 2181.93, 208.744)\" x=\"2181.93\" y=\"208.744\">y1</text>\n",
       "</g>\n",
       "</svg>\n"
      ]
     },
     "execution_count": 11,
     "metadata": {},
     "output_type": "execute_result"
    }
   ],
   "source": [
    "X = -2:0.2:2\n",
    "Y = [1 + sin((π/4)p) for p ∈ X]\n",
    "fig = plot(X, Y)"
   ]
  },
  {
   "cell_type": "code",
   "execution_count": 12,
   "metadata": {
    "scrolled": false
   },
   "outputs": [
    {
     "name": "stdout",
     "output_type": "stream",
     "text": [
      "Epoch 1, Error 3.3615331407097253\n",
      "Epoch 2, Error 5.218705078503079\n",
      "Epoch 3, Error 5.254714812069711\n",
      "Epoch 4, Error 5.17952178975711\n",
      "Epoch 5, Error 5.075834445367916\n",
      "Epoch 6, Error 4.871777716634619\n",
      "Epoch 7, Error 4.4566646967385655\n",
      "Epoch 8, Error 3.7200454756765176\n",
      "Epoch 9, Error 2.7081135991889695\n",
      "Epoch 10, Error 1.6958819455061855\n"
     ]
    },
    {
     "data": {
      "text/plain": [
       "Animation(\"/tmp/tmpQXQBM3\", [\"000001.png\", \"000002.png\", \"000003.png\", \"000004.png\", \"000005.png\", \"000006.png\", \"000007.png\", \"000008.png\", \"000009.png\", \"000010.png\"])"
      ]
     },
     "execution_count": 12,
     "metadata": {},
     "output_type": "execute_result"
    }
   ],
   "source": [
    "anim = @animate for i in 1:10\n",
    "    net_err = 0.\n",
    "    for (x, y) ∈ zip(eachrow(X), eachrow(Y))\n",
    "        x = convert(Array, x)\n",
    "        y = convert(Array, y)\n",
    "        Ŷ = forward(net, x)[end]\n",
    "        err = net.J.f(Ŷ, y)\n",
    "        net_err += sum(err)\n",
    "        backward(net, x, y)\n",
    "        update(net)\n",
    "    end\n",
    "    Ŷ = [forward(net, x)[end] for x ∈ eachrow(X)]\n",
    "    println(\"Epoch $i, Error $net_err\")\n",
    "    plot!(fig, X, vcat(Ŷ...), label=\"Epoch $i\")#, Error $net_err)\n",
    "end"
   ]
  },
  {
   "cell_type": "code",
   "execution_count": 13,
   "metadata": {},
   "outputs": [],
   "source": [
    ";rm ./backpropagation.gif"
   ]
  },
  {
   "cell_type": "code",
   "execution_count": 14,
   "metadata": {},
   "outputs": [
    {
     "name": "stderr",
     "output_type": "stream",
     "text": [
      "┌ Info: Saved animation to \n",
      "│   fn = /home/emilio1625/Proyectos/0751-nlp/ml/src/backpropagation.gif\n",
      "└ @ Plots /home/emilio1625/.julia/packages/Plots/Iuc9S/src/animation.jl:95\n"
     ]
    },
    {
     "data": {
      "text/html": [
       "<img src=\"backpropagation.gif\" />"
      ],
      "text/plain": [
       "Plots.AnimatedGif(\"/home/emilio1625/Proyectos/0751-nlp/ml/src/backpropagation.gif\")"
      ]
     },
     "execution_count": 14,
     "metadata": {},
     "output_type": "execute_result"
    }
   ],
   "source": [
    "gif(anim, \"./backpropagation.gif\", fps=1)"
   ]
  },
  {
   "cell_type": "code",
   "execution_count": 15,
   "metadata": {
    "scrolled": true
   },
   "outputs": [
    {
     "name": "stdout",
     "output_type": "stream",
     "text": [
      "Num: [0.682337], Calc: [0.682337]\n",
      "Num: [0.706951], Calc: [0.706951]\n",
      "Num: [0.712812], Calc: [0.712812]\n",
      "Num: [0.701024], Calc: [0.701024]\n",
      "Num: [0.673035], Calc: [0.673035]\n",
      "Num: [0.630539], Calc: [0.630539]\n",
      "Num: [0.575381], Calc: [0.575381]\n",
      "Num: [0.509492], Calc: [0.509492]\n",
      "Num: [0.434853], Calc: [0.434853]\n",
      "Num: [0.353503], Calc: [0.353503]\n",
      "Num: [0.26758], Calc: [0.26758]\n",
      "Num: [0.179374], Calc: [0.179374]\n",
      "Num: [0.0913673], Calc: [0.0913673]\n",
      "Num: [0.00624415], Calc: [0.00624415]\n",
      "Num: [-0.0731508], Calc: [-0.0731508]\n",
      "Num: [-0.143896], Calc: [-0.143896]\n",
      "Num: [-0.20311], Calc: [-0.20311]\n",
      "Num: [-0.248091], Calc: [-0.248091]\n",
      "Num: [-0.276444], Calc: [-0.276444]\n",
      "Num: [-0.286207], Calc: [-0.286207]\n",
      "Num: [-0.275937], Calc: [-0.275937]\n"
     ]
    }
   ],
   "source": [
    "# Comprobacion usando el gradiente numerico\n",
    "for (x, y) ∈ zip(eachrow(X), eachrow(Y))\n",
    "    Ŷ = forward(net, x)[end]\n",
    "    ∂J = backward(net, x, y)\n",
    "    ϵ = 1e-4\n",
    "    loss1 = net.J.f(Ŷ .+ ϵ, y)\n",
    "    #println(loss1)\n",
    "    loss2 = net.J.f(Ŷ .- ϵ, y)\n",
    "    #println(loss2)\n",
    "    numgrad = (loss1-loss2)/(2*ϵ)\n",
    "    println(\"Num: $numgrad, Calc: $∂J\")\n",
    "end"
   ]
  },
  {
   "cell_type": "code",
   "execution_count": null,
   "metadata": {},
   "outputs": [],
   "source": []
  }
 ],
 "metadata": {
  "kernelspec": {
   "display_name": "Julia 1.1.0",
   "language": "julia",
   "name": "julia-1.1"
  },
  "language_info": {
   "file_extension": ".jl",
   "mimetype": "application/julia",
   "name": "julia",
   "version": "1.1.0"
  }
 },
 "nbformat": 4,
 "nbformat_minor": 5
}
